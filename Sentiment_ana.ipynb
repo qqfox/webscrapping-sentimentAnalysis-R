{
 "cells": [
  {
   "cell_type": "code",
   "execution_count": 125,
   "id": "b16aa88c-7ff2-40dc-9f1a-ffb5215ac964",
   "metadata": {
    "tags": []
   },
   "outputs": [
    {
     "name": "stderr",
     "output_type": "stream",
     "text": [
      "Warning message:\n",
      "\"package 'tm' is in use and will not be installed\"Warning message:\n",
      "\"package 'syuzhet' is in use and will not be installed\""
     ]
    }
   ],
   "source": [
    "#load package to R\n",
    "install.packages('tm')\n",
    "install.packages('syuzhet')\n",
    "library(tm) #text analysis - text mining\n",
    "library(syuzhet)"
   ]
  },
  {
   "cell_type": "code",
   "execution_count": 126,
   "id": "11684b82-2990-404d-badb-c938e75d6b3a",
   "metadata": {},
   "outputs": [
    {
     "name": "stderr",
     "output_type": "stream",
     "text": [
      "Warning message:\n",
      "\"package 'wordcloud' is in use and will not be installed\""
     ]
    }
   ],
   "source": [
    "install.packages(\"wordcloud\") \n",
    "library(wordcloud) #create word cloud"
   ]
  },
  {
   "cell_type": "code",
   "execution_count": 127,
   "id": "0c3a8a90-6c4d-4856-8fd0-96c56ce9ea19",
   "metadata": {},
   "outputs": [],
   "source": [
    "#import data into R\n",
    "reviews <- read.csv('reviews.csv')"
   ]
  },
  {
   "cell_type": "code",
   "execution_count": 128,
   "id": "ebaa7bd2-db77-4c1b-a5c0-b87e0df45e8d",
   "metadata": {},
   "outputs": [
    {
     "name": "stdout",
     "output_type": "stream",
     "text": [
      "'data.frame':\t50 obs. of  8 variables:\n",
      " $ ï..id      : Factor w/ 50 levels \"R12T2NBVCDIBJQ\",..: 15 4 29 24 17 7 46 8 39 21 ...\n",
      " $ profileName: Factor w/ 49 levels \"A. Galaviz\",\"Aily\",..: 20 34 6 28 45 24 39 8 38 36 ...\n",
      " $ text       : Factor w/ 50 levels \"\\n  Absolutely beautiful, I?Â\\200?m so happy with my books! I was skeptical since many reviews mentioned missin\"| __truncated__,..: 7 3 30 8 4 34 45 13 42 14 ...\n",
      " $ date       : Factor w/ 49 levels \"Reviewed in the United States on April 2, 2019\",..: 20 1 22 29 33 41 11 26 23 45 ...\n",
      " $ title      : Factor w/ 50 levels \"A modern classic\",..: 5 36 12 23 14 29 33 31 35 32 ...\n",
      " $ rating     : int  1 2 1 3 1 1 5 1 2 5 ...\n",
      " $ images     : Factor w/ 17 levels \"\",\"https://images-na.ssl-images-amazon.com/images/I/711xqmYCXpL.jpg\\nhttps://images-na.ssl-images-amazon.com/image\"| __truncated__,..: 1 4 1 1 1 1 7 1 2 1 ...\n",
      " $ helpful    : int  334 200 246 319 152 126 103 46 31 22 ...\n"
     ]
    }
   ],
   "source": [
    "#check the structure of file\n",
    "str(reviews)"
   ]
  },
  {
   "cell_type": "code",
   "execution_count": 129,
   "id": "d5efbaee-5f3e-46db-8e9a-0857a62d41d2",
   "metadata": {},
   "outputs": [],
   "source": [
    "#create a corpus\n",
    "#this function uses the base package function inconv to translate value labels into a specified encoding\n",
    "corpus <- iconv(reviews$text, 'UTF-8', 'ASCII') # handle emojis that tolower is not able to understand\n",
    "corpus <- Corpus(VectorSource(corpus))"
   ]
  },
  {
   "cell_type": "code",
   "execution_count": 130,
   "id": "803876d3-231f-44aa-a8fe-73a1848beb5c",
   "metadata": {},
   "outputs": [
    {
     "name": "stdout",
     "output_type": "stream",
     "text": [
      "<<SimpleCorpus>>\n",
      "Metadata:  corpus specific: 1, document level (indexed): 0\n",
      "Content:  documents: 5\n",
      "\n",
      "[1] \\n  Do not buy this! I recently read that Amazon sells pirated books (because they don't check they take the money no matter what they sell) which means, not only are the prints not authorized which is a legal issue, but for the consumer experience, it's detrimental as well. This box set is printed on such coarse paper (paper feels like industrial pulp), the ink becomes blurred and hard to read. Worse yet, I gave them to my daughter (who is too young to know about print quality and thus never complained), and she had to squint through volumes of this crappy print that totally ruined her eyesight, before I realized what was going on. Amazon you need to do better than this!\\n\n",
      "[2] \\n  Beautiful covers and tough packaging. Bought these for my neices and nephews. I can read them but they are having trouble because the print on the pages. Several are blurry like this and book 1 (currently in my neices possession) has several pages with light spots down the middle and you can barely make out the words. They keep bringing the books to us for help. Haven't been into the other 4 books yet. I imagine they will be similar.\\n                                                                                                                                                                                                                                               \n",
      "[3] \\n  Pages missing from page 28 to 77!\\n                                                                                                                                                                                                                                                                                                                                                                                                                                                                                                                                                                                                                                                                   \n",
      "[4] \\n  Great price, but it is all 7 books combined into one volume and one table of contents; which makes navigating to different books and chapters a bit more difficult than if they were 7 distinct books.\\n                                                                                                                                                                                                                                                                                                                                                                                                                                                                                              \n",
      "[5] \\n  Books are printed incorrectly I'm missing about half of one of the books. Pathetic\\n                                                                                                                                                                                                                                                                                                                                                                                                                                                                                                                                                                                                                  \n"
     ]
    }
   ],
   "source": [
    "#to see the corpus\n",
    "inspect(corpus[1:5])"
   ]
  },
  {
   "cell_type": "code",
   "execution_count": 131,
   "id": "5d2a5b94-3867-4a0b-a948-a4223cddc1ce",
   "metadata": {},
   "outputs": [
    {
     "name": "stderr",
     "output_type": "stream",
     "text": [
      "Warning message in tm_map.SimpleCorpus(corpus, tolower):\n",
      "\"transformation drops documents\"Warning message in tm_map.SimpleCorpus(corpus, removePunctuation):\n",
      "\"transformation drops documents\"Warning message in tm_map.SimpleCorpus(corpus, removeNumbers):\n",
      "\"transformation drops documents\"Warning message in tm_map.SimpleCorpus(corpus, removeWords, stopwords(\"english\")):\n",
      "\"transformation drops documents\"Warning message in tm_map.SimpleCorpus(corpus, removeWords, c(\"book\", \"books\", \"series\", :\n",
      "\"transformation drops documents\"Warning message in tm_map.SimpleCorpus(corpus, stripWhitespace):\n",
      "\"transformation drops documents\""
     ]
    },
    {
     "name": "stdout",
     "output_type": "stream",
     "text": [
      "<<SimpleCorpus>>\n",
      "Metadata:  corpus specific: 1, document level (indexed): 0\n",
      "Content:  documents: 5\n",
      "\n",
      "[1]  buy recently read amazon sells pirated dont check take money matter sell means prints authorized legal issue consumer experience detrimental well box printed coarse paper paper feels like industrial pulp ink becomes blurred hard read worse yet gave daughter young know print quality thus never complained squint volumes crappy print totally ruined eyesight realized going amazon need better \n",
      "[2]  beautiful covers tough packaging bought neices nephews can read trouble print pages several blurry like currently neices possession several pages light spots middle can barely make words keep bringing us help havent yet imagine will similar                                                                                                                                                       \n",
      "[3]  pages missing page                                                                                                                                                                                                                                                                                                                                                                                     \n",
      "[4]  great price combined one volume one table contents makes navigating different chapters bit difficult distinct                                                                                                                                                                                                                                                                                          \n",
      "[5]  printed incorrectly im missing half one pathetic                                                                                                                                                                                                                                                                                                                                                       \n"
     ]
    }
   ],
   "source": [
    "#clean the corpus\n",
    "corpus <- tm_map(corpus, tolower) #lowercase\n",
    "corpus <- tm_map(corpus,removePunctuation) #remove punctuation ex: .!@#$%^&*()_+ \n",
    "corpus <- tm_map(corpus, removeNumbers) #remove number\n",
    "corpus <- tm_map(corpus, removeWords, stopwords(\"english\")) #remove not important words, ex: the, are, a, at...\n",
    "#remove some common words not to used in text analysis in real case\n",
    "corpus <- tm_map(corpus, removeWords, c(\"book\",\"books\", \"series\", \"set\", \"harry\", \"potter\"))\n",
    "corpus <- tm_map(corpus,stripWhitespace) #remove start and end of any text       \n",
    "inspect(corpus[1:5])\n",
    "reviews_final <- corpus"
   ]
  },
  {
   "cell_type": "code",
   "execution_count": 132,
   "id": "420feb7a-d16a-4404-96fd-0978e005bbfc",
   "metadata": {},
   "outputs": [
    {
     "data": {
      "text/html": [
       "<table>\n",
       "<thead><tr><th></th><th scope=col>1</th><th scope=col>2</th><th scope=col>3</th><th scope=col>4</th><th scope=col>5</th></tr></thead>\n",
       "<tbody>\n",
       "\t<tr><th scope=row>amazon</th><td>2</td><td>0</td><td>0</td><td>0</td><td>0</td></tr>\n",
       "\t<tr><th scope=row>authorized</th><td>1</td><td>0</td><td>0</td><td>0</td><td>0</td></tr>\n",
       "\t<tr><th scope=row>becomes</th><td>1</td><td>0</td><td>0</td><td>0</td><td>0</td></tr>\n",
       "\t<tr><th scope=row>better</th><td>1</td><td>0</td><td>0</td><td>0</td><td>0</td></tr>\n",
       "\t<tr><th scope=row>blurred</th><td>1</td><td>0</td><td>0</td><td>0</td><td>0</td></tr>\n",
       "\t<tr><th scope=row>box</th><td>1</td><td>0</td><td>0</td><td>0</td><td>0</td></tr>\n",
       "\t<tr><th scope=row>buy</th><td>1</td><td>0</td><td>0</td><td>0</td><td>0</td></tr>\n",
       "\t<tr><th scope=row>check</th><td>1</td><td>0</td><td>0</td><td>0</td><td>0</td></tr>\n",
       "\t<tr><th scope=row>coarse</th><td>1</td><td>0</td><td>0</td><td>0</td><td>0</td></tr>\n",
       "\t<tr><th scope=row>complained</th><td>1</td><td>0</td><td>0</td><td>0</td><td>0</td></tr>\n",
       "</tbody>\n",
       "</table>\n"
      ],
      "text/latex": [
       "\\begin{tabular}{r|lllll}\n",
       "  & 1 & 2 & 3 & 4 & 5\\\\\n",
       "\\hline\n",
       "\tamazon & 2 & 0 & 0 & 0 & 0\\\\\n",
       "\tauthorized & 1 & 0 & 0 & 0 & 0\\\\\n",
       "\tbecomes & 1 & 0 & 0 & 0 & 0\\\\\n",
       "\tbetter & 1 & 0 & 0 & 0 & 0\\\\\n",
       "\tblurred & 1 & 0 & 0 & 0 & 0\\\\\n",
       "\tbox & 1 & 0 & 0 & 0 & 0\\\\\n",
       "\tbuy & 1 & 0 & 0 & 0 & 0\\\\\n",
       "\tcheck & 1 & 0 & 0 & 0 & 0\\\\\n",
       "\tcoarse & 1 & 0 & 0 & 0 & 0\\\\\n",
       "\tcomplained & 1 & 0 & 0 & 0 & 0\\\\\n",
       "\\end{tabular}\n"
      ],
      "text/markdown": [
       "\n",
       "| <!--/--> | 1 | 2 | 3 | 4 | 5 |\n",
       "|---|---|---|---|---|---|\n",
       "| amazon | 2 | 0 | 0 | 0 | 0 |\n",
       "| authorized | 1 | 0 | 0 | 0 | 0 |\n",
       "| becomes | 1 | 0 | 0 | 0 | 0 |\n",
       "| better | 1 | 0 | 0 | 0 | 0 |\n",
       "| blurred | 1 | 0 | 0 | 0 | 0 |\n",
       "| box | 1 | 0 | 0 | 0 | 0 |\n",
       "| buy | 1 | 0 | 0 | 0 | 0 |\n",
       "| check | 1 | 0 | 0 | 0 | 0 |\n",
       "| coarse | 1 | 0 | 0 | 0 | 0 |\n",
       "| complained | 1 | 0 | 0 | 0 | 0 |\n",
       "\n"
      ],
      "text/plain": [
       "            Docs\n",
       "Terms        1 2 3 4 5\n",
       "  amazon     2 0 0 0 0\n",
       "  authorized 1 0 0 0 0\n",
       "  becomes    1 0 0 0 0\n",
       "  better     1 0 0 0 0\n",
       "  blurred    1 0 0 0 0\n",
       "  box        1 0 0 0 0\n",
       "  buy        1 0 0 0 0\n",
       "  check      1 0 0 0 0\n",
       "  coarse     1 0 0 0 0\n",
       "  complained 1 0 0 0 0"
      ]
     },
     "metadata": {},
     "output_type": "display_data"
    }
   ],
   "source": [
    "#create Term document\n",
    "tdm <- TermDocumentMatrix(reviews_final)\n",
    "tdm <- as.matrix(tdm)\n",
    "tdm[1:10, 1:5]"
   ]
  },
  {
   "cell_type": "code",
   "execution_count": 133,
   "id": "6a659dae-9ef0-4386-a300-787b24fb5be7",
   "metadata": {},
   "outputs": [
    {
     "data": {
      "image/png": "[encoded data removed]",
      "text/plain": [
       "plot without title"
      ]
     },
     "metadata": {},
     "output_type": "display_data"
    }
   ],
   "source": [
    "#bar plot of words\n",
    "w <- rowSums(tdm)\n",
    "w <- subset(w, w >= 12)\n",
    "barplot(w, las = 1, col = 'slateblue3')"
   ]
  },
  {
   "cell_type": "code",
   "execution_count": 134,
   "id": "e34df465-a7f3-4994-b358-414f3b767520",
   "metadata": {},
   "outputs": [
    {
     "name": "stderr",
     "output_type": "stream",
     "text": [
      "Warning message in brewer.pal(25, \"Dark2\"):\n",
      "\"n too large, allowed maximum for palette Dark2 is 8\n",
      "Returning the palette you asked for with that many colors\n",
      "\""
     ]
    },
    {
     "data": {
      "image/png": "[encoded data removed]",
      "text/plain": [
       "plot without title"
      ]
     },
     "metadata": {},
     "output_type": "display_data"
    }
   ],
   "source": [
    "#create word cloud\n",
    "w <- sort(rowSums(tdm), decreasing = T)\n",
    "set.seed(1000)\n",
    "wordcloud(words = names(w),\n",
    "         freq = w,\n",
    "         max.words = 50,\n",
    "         random.order = T,\n",
    "         min.freq = 5,\n",
    "         colors = brewer.pal(25, \"Dark2\"),\n",
    "         scale = c(3,0.3))"
   ]
  },
  {
   "cell_type": "code",
   "execution_count": 135,
   "id": "18cd88a5-b0eb-4949-bb7f-4d7c0723d5ea",
   "metadata": {},
   "outputs": [
    {
     "data": {
      "text/html": [
       "<table>\n",
       "<thead><tr><th scope=col>anger</th><th scope=col>anticipation</th><th scope=col>disgust</th><th scope=col>fear</th><th scope=col>joy</th><th scope=col>sadness</th><th scope=col>surprise</th><th scope=col>trust</th><th scope=col>negative</th><th scope=col>positive</th></tr></thead>\n",
       "<tbody>\n",
       "\t<tr><td>2</td><td>2</td><td>1</td><td>2</td><td>3</td><td>2</td><td>2</td><td>2</td><td>4</td><td>5</td></tr>\n",
       "\t<tr><td>2</td><td>0</td><td>1</td><td>1</td><td>1</td><td>1</td><td>0</td><td>0</td><td>3</td><td>1</td></tr>\n",
       "\t<tr><td>0</td><td>0</td><td>0</td><td>1</td><td>0</td><td>1</td><td>0</td><td>0</td><td>1</td><td>0</td></tr>\n",
       "\t<tr><td>0</td><td>0</td><td>0</td><td>1</td><td>0</td><td>0</td><td>0</td><td>0</td><td>0</td><td>0</td></tr>\n",
       "\t<tr><td>0</td><td>0</td><td>1</td><td>1</td><td>0</td><td>2</td><td>0</td><td>0</td><td>2</td><td>0</td></tr>\n",
       "\t<tr><td>1</td><td>0</td><td>1</td><td>1</td><td>0</td><td>2</td><td>0</td><td>0</td><td>2</td><td>1</td></tr>\n",
       "\t<tr><td>2</td><td>3</td><td>3</td><td>1</td><td>5</td><td>2</td><td>2</td><td>4</td><td>3</td><td>6</td></tr>\n",
       "\t<tr><td>0</td><td>2</td><td>0</td><td>2</td><td>2</td><td>3</td><td>0</td><td>5</td><td>3</td><td>5</td></tr>\n",
       "\t<tr><td>0</td><td>3</td><td>0</td><td>0</td><td>0</td><td>1</td><td>0</td><td>2</td><td>1</td><td>2</td></tr>\n",
       "\t<tr><td>1</td><td>1</td><td>0</td><td>0</td><td>5</td><td>2</td><td>1</td><td>3</td><td>2</td><td>7</td></tr>\n",
       "</tbody>\n",
       "</table>\n"
      ],
      "text/latex": [
       "\\begin{tabular}{r|llllllllll}\n",
       " anger & anticipation & disgust & fear & joy & sadness & surprise & trust & negative & positive\\\\\n",
       "\\hline\n",
       "\t 2 & 2 & 1 & 2 & 3 & 2 & 2 & 2 & 4 & 5\\\\\n",
       "\t 2 & 0 & 1 & 1 & 1 & 1 & 0 & 0 & 3 & 1\\\\\n",
       "\t 0 & 0 & 0 & 1 & 0 & 1 & 0 & 0 & 1 & 0\\\\\n",
       "\t 0 & 0 & 0 & 1 & 0 & 0 & 0 & 0 & 0 & 0\\\\\n",
       "\t 0 & 0 & 1 & 1 & 0 & 2 & 0 & 0 & 2 & 0\\\\\n",
       "\t 1 & 0 & 1 & 1 & 0 & 2 & 0 & 0 & 2 & 1\\\\\n",
       "\t 2 & 3 & 3 & 1 & 5 & 2 & 2 & 4 & 3 & 6\\\\\n",
       "\t 0 & 2 & 0 & 2 & 2 & 3 & 0 & 5 & 3 & 5\\\\\n",
       "\t 0 & 3 & 0 & 0 & 0 & 1 & 0 & 2 & 1 & 2\\\\\n",
       "\t 1 & 1 & 0 & 0 & 5 & 2 & 1 & 3 & 2 & 7\\\\\n",
       "\\end{tabular}\n"
      ],
      "text/markdown": [
       "\n",
       "| anger | anticipation | disgust | fear | joy | sadness | surprise | trust | negative | positive |\n",
       "|---|---|---|---|---|---|---|---|---|---|\n",
       "| 2 | 2 | 1 | 2 | 3 | 2 | 2 | 2 | 4 | 5 |\n",
       "| 2 | 0 | 1 | 1 | 1 | 1 | 0 | 0 | 3 | 1 |\n",
       "| 0 | 0 | 0 | 1 | 0 | 1 | 0 | 0 | 1 | 0 |\n",
       "| 0 | 0 | 0 | 1 | 0 | 0 | 0 | 0 | 0 | 0 |\n",
       "| 0 | 0 | 1 | 1 | 0 | 2 | 0 | 0 | 2 | 0 |\n",
       "| 1 | 0 | 1 | 1 | 0 | 2 | 0 | 0 | 2 | 1 |\n",
       "| 2 | 3 | 3 | 1 | 5 | 2 | 2 | 4 | 3 | 6 |\n",
       "| 0 | 2 | 0 | 2 | 2 | 3 | 0 | 5 | 3 | 5 |\n",
       "| 0 | 3 | 0 | 0 | 0 | 1 | 0 | 2 | 1 | 2 |\n",
       "| 1 | 1 | 0 | 0 | 5 | 2 | 1 | 3 | 2 | 7 |\n",
       "\n"
      ],
      "text/plain": [
       "   anger anticipation disgust fear joy sadness surprise trust negative positive\n",
       "1  2     2            1       2    3   2       2        2     4        5       \n",
       "2  2     0            1       1    1   1       0        0     3        1       \n",
       "3  0     0            0       1    0   1       0        0     1        0       \n",
       "4  0     0            0       1    0   0       0        0     0        0       \n",
       "5  0     0            1       1    0   2       0        0     2        0       \n",
       "6  1     0            1       1    0   2       0        0     2        1       \n",
       "7  2     3            3       1    5   2       2        4     3        6       \n",
       "8  0     2            0       2    2   3       0        5     3        5       \n",
       "9  0     3            0       0    0   1       0        2     1        2       \n",
       "10 1     1            0       0    5   2       1        3     2        7       "
      ]
     },
     "metadata": {},
     "output_type": "display_data"
    },
    {
     "data": {
      "text/html": [
       "<table>\n",
       "<thead><tr><th scope=col>anger</th><th scope=col>anticipation</th><th scope=col>disgust</th><th scope=col>fear</th><th scope=col>joy</th><th scope=col>sadness</th><th scope=col>surprise</th><th scope=col>trust</th><th scope=col>negative</th><th scope=col>positive</th><th scope=col>score</th></tr></thead>\n",
       "<tbody>\n",
       "\t<tr><td>2 </td><td>2 </td><td>1 </td><td>2 </td><td>3 </td><td>2 </td><td>2 </td><td>2 </td><td>4 </td><td>5 </td><td> 1</td></tr>\n",
       "\t<tr><td>2 </td><td>0 </td><td>1 </td><td>1 </td><td>1 </td><td>1 </td><td>0 </td><td>0 </td><td>3 </td><td>1 </td><td>-2</td></tr>\n",
       "\t<tr><td>0 </td><td>0 </td><td>0 </td><td>1 </td><td>0 </td><td>1 </td><td>0 </td><td>0 </td><td>1 </td><td>0 </td><td>-1</td></tr>\n",
       "\t<tr><td>0 </td><td>0 </td><td>0 </td><td>1 </td><td>0 </td><td>0 </td><td>0 </td><td>0 </td><td>0 </td><td>0 </td><td> 0</td></tr>\n",
       "\t<tr><td>0 </td><td>0 </td><td>1 </td><td>1 </td><td>0 </td><td>2 </td><td>0 </td><td>0 </td><td>2 </td><td>0 </td><td>-2</td></tr>\n",
       "\t<tr><td>1 </td><td>0 </td><td>1 </td><td>1 </td><td>0 </td><td>2 </td><td>0 </td><td>0 </td><td>2 </td><td>1 </td><td>-1</td></tr>\n",
       "\t<tr><td>2 </td><td>3 </td><td>3 </td><td>1 </td><td>5 </td><td>2 </td><td>2 </td><td>4 </td><td>3 </td><td>6 </td><td> 3</td></tr>\n",
       "\t<tr><td>0 </td><td>2 </td><td>0 </td><td>2 </td><td>2 </td><td>3 </td><td>0 </td><td>5 </td><td>3 </td><td>5 </td><td> 2</td></tr>\n",
       "\t<tr><td>0 </td><td>3 </td><td>0 </td><td>0 </td><td>0 </td><td>1 </td><td>0 </td><td>2 </td><td>1 </td><td>2 </td><td> 1</td></tr>\n",
       "\t<tr><td>1 </td><td>1 </td><td>0 </td><td>0 </td><td>5 </td><td>2 </td><td>1 </td><td>3 </td><td>2 </td><td>7 </td><td> 5</td></tr>\n",
       "</tbody>\n",
       "</table>\n"
      ],
      "text/latex": [
       "\\begin{tabular}{r|lllllllllll}\n",
       " anger & anticipation & disgust & fear & joy & sadness & surprise & trust & negative & positive & score\\\\\n",
       "\\hline\n",
       "\t 2  & 2  & 1  & 2  & 3  & 2  & 2  & 2  & 4  & 5  &  1\\\\\n",
       "\t 2  & 0  & 1  & 1  & 1  & 1  & 0  & 0  & 3  & 1  & -2\\\\\n",
       "\t 0  & 0  & 0  & 1  & 0  & 1  & 0  & 0  & 1  & 0  & -1\\\\\n",
       "\t 0  & 0  & 0  & 1  & 0  & 0  & 0  & 0  & 0  & 0  &  0\\\\\n",
       "\t 0  & 0  & 1  & 1  & 0  & 2  & 0  & 0  & 2  & 0  & -2\\\\\n",
       "\t 1  & 0  & 1  & 1  & 0  & 2  & 0  & 0  & 2  & 1  & -1\\\\\n",
       "\t 2  & 3  & 3  & 1  & 5  & 2  & 2  & 4  & 3  & 6  &  3\\\\\n",
       "\t 0  & 2  & 0  & 2  & 2  & 3  & 0  & 5  & 3  & 5  &  2\\\\\n",
       "\t 0  & 3  & 0  & 0  & 0  & 1  & 0  & 2  & 1  & 2  &  1\\\\\n",
       "\t 1  & 1  & 0  & 0  & 5  & 2  & 1  & 3  & 2  & 7  &  5\\\\\n",
       "\\end{tabular}\n"
      ],
      "text/markdown": [
       "\n",
       "| anger | anticipation | disgust | fear | joy | sadness | surprise | trust | negative | positive | score |\n",
       "|---|---|---|---|---|---|---|---|---|---|---|\n",
       "| 2  | 2  | 1  | 2  | 3  | 2  | 2  | 2  | 4  | 5  |  1 |\n",
       "| 2  | 0  | 1  | 1  | 1  | 1  | 0  | 0  | 3  | 1  | -2 |\n",
       "| 0  | 0  | 0  | 1  | 0  | 1  | 0  | 0  | 1  | 0  | -1 |\n",
       "| 0  | 0  | 0  | 1  | 0  | 0  | 0  | 0  | 0  | 0  |  0 |\n",
       "| 0  | 0  | 1  | 1  | 0  | 2  | 0  | 0  | 2  | 0  | -2 |\n",
       "| 1  | 0  | 1  | 1  | 0  | 2  | 0  | 0  | 2  | 1  | -1 |\n",
       "| 2  | 3  | 3  | 1  | 5  | 2  | 2  | 4  | 3  | 6  |  3 |\n",
       "| 0  | 2  | 0  | 2  | 2  | 3  | 0  | 5  | 3  | 5  |  2 |\n",
       "| 0  | 3  | 0  | 0  | 0  | 1  | 0  | 2  | 1  | 2  |  1 |\n",
       "| 1  | 1  | 0  | 0  | 5  | 2  | 1  | 3  | 2  | 7  |  5 |\n",
       "\n"
      ],
      "text/plain": [
       "   anger anticipation disgust fear joy sadness surprise trust negative positive\n",
       "1  2     2            1       2    3   2       2        2     4        5       \n",
       "2  2     0            1       1    1   1       0        0     3        1       \n",
       "3  0     0            0       1    0   1       0        0     1        0       \n",
       "4  0     0            0       1    0   0       0        0     0        0       \n",
       "5  0     0            1       1    0   2       0        0     2        0       \n",
       "6  1     0            1       1    0   2       0        0     2        1       \n",
       "7  2     3            3       1    5   2       2        4     3        6       \n",
       "8  0     2            0       2    2   3       0        5     3        5       \n",
       "9  0     3            0       0    0   1       0        2     1        2       \n",
       "10 1     1            0       0    5   2       1        3     2        7       \n",
       "   score\n",
       "1   1   \n",
       "2  -2   \n",
       "3  -1   \n",
       "4   0   \n",
       "5  -2   \n",
       "6  -1   \n",
       "7   3   \n",
       "8   2   \n",
       "9   1   \n",
       "10  5   "
      ]
     },
     "metadata": {},
     "output_type": "display_data"
    },
    {
     "name": "stderr",
     "output_type": "stream",
     "text": [
      "Warning message in file(file, ifelse(append, \"a\", \"w\")):\n",
      "\"cannot open file 'C:/Users/Quynhfox/R Code/final_rev_Score.csv': Permission denied\""
     ]
    },
    {
     "ename": "ERROR",
     "evalue": "Error in file(file, ifelse(append, \"a\", \"w\")): cannot open the connection\n",
     "output_type": "error",
     "traceback": [
      "Error in file(file, ifelse(append, \"a\", \"w\")): cannot open the connection\nTraceback:\n",
      "1. write.csv(x = s, file = \"C:/Users/Quynhfox/R Code/final_rev_Score.csv\")",
      "2. eval.parent(Call)",
      "3. eval(expr, p)",
      "4. eval(expr, p)",
      "5. write.table(x = s, file = \"C:/Users/Quynhfox/R Code/final_rev_Score.csv\", \n .     col.names = NA, sep = \",\", dec = \".\", qmethod = \"double\")",
      "6. file(file, ifelse(append, \"a\", \"w\"))"
     ]
    }
   ],
   "source": [
    "#obtain sentiment scores\n",
    "sentiment_data <- iconv(reviews$text)\n",
    "s <- get_nrc_sentiment(sentiment_data)\n",
    "s[1:10,]\n",
    "\n",
    "#calculate review wise score\n",
    "s$score <- s$positive - s$negative\n",
    "s[1:10,]\n",
    "\n",
    "#write score to a csv file\n",
    "write.csv(x = s, file = \"C:/Users/Quynhfox/R Code/final_rev_Score.csv\")"
   ]
  },
  {
   "cell_type": "code",
   "execution_count": 136,
   "id": "80649a7c-7896-4aed-a650-6bbf536f89bc",
   "metadata": {},
   "outputs": [
    {
     "name": "stdout",
     "output_type": "stream",
     "text": [
      "       anger anticipation      disgust         fear          joy      sadness \n",
      "          63          125           33           56          120           91 \n",
      "    surprise        trust     negative     positive        score \n",
      "          55          142          152          273          121 \n"
     ]
    }
   ],
   "source": [
    "# check the product sentiment\n",
    "\n",
    "# check overall sentiment of the product\n",
    "review_score <- colSums(s[,])\n",
    "print(review_score)"
   ]
  },
  {
   "cell_type": "code",
   "execution_count": 137,
   "id": "2a67c51c-43bd-40b4-a7c2-dffd7cba1e17",
   "metadata": {},
   "outputs": [
    {
     "data": {
      "image/png": "[encoded data removed]",
      "text/plain": [
       "Plot with title \"Sentiment\""
      ]
     },
     "metadata": {},
     "output_type": "display_data"
    }
   ],
   "source": [
    "# plot product sentiment\n",
    "# Bar plot\n",
    "barplot(colSums(s),\n",
    "       las =2,\n",
    "       col = rainbow(11),\n",
    "       ylab = 'Count',\n",
    "       main = 'Sentiment')"
   ]
  },
  {
   "cell_type": "code",
   "execution_count": null,
   "id": "45402b02-4870-4b4a-aaff-cd33aa6d55d4",
   "metadata": {},
   "outputs": [],
   "source": []
  }
 ],
 "metadata": {
  "kernelspec": {
   "display_name": "R",
   "language": "R",
   "name": "ir"
  },
  "language_info": {
   "codemirror_mode": "r",
   "file_extension": ".r",
   "mimetype": "text/x-r-source",
   "name": "R",
   "pygments_lexer": "r",
   "version": "3.6.1"
  }
 },
 "nbformat": 4,
 "nbformat_minor": 5
}
