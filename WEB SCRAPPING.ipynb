{
 "cells": [
  {
   "cell_type": "code",
   "execution_count": null,
   "id": "d03313a2-0be7-4673-9442-144ce448b7d2",
   "metadata": {},
   "outputs": [],
   "source": [
    "install.packages(\"rvest\")\n",
    "install.packages(\"dplyr\")"
   ]
  },
  {
   "cell_type": "code",
   "execution_count": 68,
   "id": "fe426e74-894e-47ff-8401-683462b6a46d",
   "metadata": {},
   "outputs": [],
   "source": [
    "library(rvest)\n",
    "library(dplyr)"
   ]
  },
  {
   "cell_type": "code",
   "execution_count": 69,
   "id": "07aebffa-2646-4c29-b578-52d53d71676b",
   "metadata": {},
   "outputs": [],
   "source": [
    "link = \"https://www.amazon.com/Harry-Potter-Complete-Collection-1-7-ebook/dp/B01B3DIPMW/ref=sr_1_1?crid=2M34QNMUH5XN5&dchild=1&keywords=harry+potter&qid=1623073513&s=books&sprefix=harry%2Cstripbooks-intl-ship%2C345&sr=1-1\"\n",
    "page = read_html(link)"
   ]
  },
  {
   "cell_type": "code",
   "execution_count": 70,
   "id": "3ea20f11-4ed1-4d61-99c6-9ace070180aa",
   "metadata": {
    "tags": []
   },
   "outputs": [],
   "source": [
    "review_title = page %>% html_nodes(\".a-text-bold span\") %>% html_text()\n",
    "review = page %>% html_nodes(\".a-expander-partial-collapse-content span\") %>% html_text()"
   ]
  },
  {
   "cell_type": "code",
   "execution_count": 71,
   "id": "f706b4f2-1f39-495f-9a31-3510cc7f6df2",
   "metadata": {},
   "outputs": [],
   "source": [
    "amazon = data.frame(review_title, review, stringsAsFactors = FALSE)\n",
    "write.csv(amazon, \"amReview.csv\")"
   ]
  }
 ],
 "metadata": {
  "kernelspec": {
   "display_name": "R",
   "language": "R",
   "name": "ir"
  },
  "language_info": {
   "codemirror_mode": "r",
   "file_extension": ".r",
   "mimetype": "text/x-r-source",
   "name": "R",
   "pygments_lexer": "r",
   "version": "3.6.1"
  }
 },
 "nbformat": 4,
 "nbformat_minor": 5
}
